{
 "cells": [
  {
   "cell_type": "markdown",
   "metadata": {},
   "source": [
    "1. Überprüfen ob \"Description\" und \"Text\" der Artikel deckungsgleich sind und gegebenenfalls die betroffenen Artikel entfernen.\n",
    "2. Nicht-lateinische Schrift entfernen und prüfen ob Heuristiken zur gezielten Entfernung von nicht-deutscher Sprache gefunden werden können (z.B. Originaltitel von Filmen in Klammern hinter dem Artikelnamen)\n",
    "3. Mindestlänge von Artikeln auf 100 Wörter und Maximallänge auf 2000 Wörter festlegen. Artikel die weniger als 100 Wörter enthalten, werden entfernt und durch längere ersetzt. Artikel mit mehr als 2000 Wörtern werden an der Obergrenze abgeschnitten.\n",
    "4. Überlappungen zwischen den verschiedenen Datensätzen vor dem Merge prüfen."
   ]
  },
  {
   "cell_type": "code",
   "execution_count": 1,
   "metadata": {},
   "outputs": [],
   "source": [
    "import pandas as pd\n",
    "import regex\n",
    "\n",
    "%matplotlib inline"
   ]
  },
  {
   "cell_type": "code",
   "execution_count": 2,
   "metadata": {},
   "outputs": [],
   "source": [
    "categories = pd.read_csv(\"../data/kategorien.csv\")"
   ]
  },
  {
   "cell_type": "markdown",
   "metadata": {},
   "source": [
    "### 1. description == text"
   ]
  },
  {
   "cell_type": "code",
   "execution_count": 3,
   "metadata": {},
   "outputs": [
    {
     "data": {
      "text/plain": [
       "Krankheit     29\n",
       "Soziologie    28\n",
       "Name: category, dtype: int64"
      ]
     },
     "execution_count": 3,
     "metadata": {},
     "output_type": "execute_result"
    }
   ],
   "source": [
    "categories[categories[\"description\"] == categories[\"text\"]][\"category\"].value_counts()"
   ]
  },
  {
   "cell_type": "code",
   "execution_count": 4,
   "metadata": {},
   "outputs": [],
   "source": [
    "categories = categories[categories[\"description\"] != categories[\"text\"]].reset_index(drop=True)"
   ]
  },
  {
   "cell_type": "markdown",
   "metadata": {},
   "source": [
    "### 2. Nicht-lateinische Schrift"
   ]
  },
  {
   "cell_type": "code",
   "execution_count": 5,
   "metadata": {},
   "outputs": [],
   "source": [
    "token_pattern = regex.compile(r\"\\p{Letter}+\\p{Connector_Punctuation}?\\p{Letter}+|\\p{Number}+\")\n",
    "nonlatin_pattern = regex.compile(r\"\\P{InBasic_Latin}\")"
   ]
  },
  {
   "cell_type": "code",
   "execution_count": 6,
   "metadata": {},
   "outputs": [
    {
     "data": {
      "text/plain": [
       "'የ ላ ቲ ን አ ል ፋ ቤ ት ল া ত ি ন ব র ্ ণ ম া ল া ا َ ل ل ُ ّ غ َ ة ُ ا َ ل ْ ع َ ر َ ب ِ ي َ ّ ة 漢 字 日 本 語'"
      ]
     },
     "execution_count": 6,
     "metadata": {},
     "output_type": "execute_result"
    }
   ],
   "source": [
    "example = \"\"\"Deutsch: lateinisches Alphabet, \n",
    "             Amharisch: የላቲን አልፋቤት,\n",
    "             Bengalisch: লাতিন বর্ণমালা,\n",
    "             Arabisch: اَللُّغَةُ اَلْعَرَبِيَّة,\n",
    "             Chinesisch: 漢字,\n",
    "             Japanisch: 日本語\"\"\"\n",
    "\" \".join(nonlatin_pattern.findall(example))"
   ]
  },
  {
   "cell_type": "code",
   "execution_count": 7,
   "metadata": {},
   "outputs": [],
   "source": [
    "foreign = list()\n",
    "\n",
    "for article in categories[\"text\"]:\n",
    "    for token in token_pattern.findall(str(article)):\n",
    "        match = nonlatin_pattern.findall(token)\n",
    "        if match\\\n",
    "        and \"ä\" not in token\\\n",
    "        and \"ö\" not in token\\\n",
    "        and \"ü\" not in token\\\n",
    "        and \"Ä\" not in token\\\n",
    "        and \"Ö\" not in token\\\n",
    "        and \"Ü\" not in token\\\n",
    "        and \"ß\" not in token:\n",
    "            foreign.append(token)"
   ]
  },
  {
   "cell_type": "markdown",
   "metadata": {},
   "source": [
    "### Top 20 most common \"foreign\" words"
   ]
  },
  {
   "cell_type": "code",
   "execution_count": 8,
   "metadata": {},
   "outputs": [
    {
     "data": {
      "text/plain": [
       "<matplotlib.axes._subplots.AxesSubplot at 0x7f6ce69f5ef0>"
      ]
     },
     "execution_count": 8,
     "metadata": {},
     "output_type": "execute_result"
    },
    {
     "data": {
      "image/png": "[encoded data removed]",
      "text/plain": [
       "<Figure size 432x288 with 1 Axes>"
      ]
     },
     "metadata": {
      "needs_background": "light"
     },
     "output_type": "display_data"
    }
   ],
   "source": [
    "pd.Series(foreign).value_counts()[:20].plot.barh(color=\"grey\")"
   ]
  },
  {
   "cell_type": "code",
   "execution_count": 9,
   "metadata": {},
   "outputs": [],
   "source": [
    "def drop_nonlatin(articles):\n",
    "    latin = list()\n",
    "    for text in articles:\n",
    "        for token in foreign:\n",
    "            text = str(text).replace(token, \"\")\n",
    "        latin.append(text)\n",
    "    return latin"
   ]
  },
  {
   "cell_type": "code",
   "execution_count": 10,
   "metadata": {},
   "outputs": [],
   "source": [
    "categories[\"description\"] = drop_nonlatin(categories[\"description\"])\n",
    "categories[\"text\"] = drop_nonlatin(categories[\"text\"])"
   ]
  },
  {
   "cell_type": "markdown",
   "metadata": {},
   "source": [
    "### 3. Mindest- bzw. Maximallänge"
   ]
  },
  {
   "cell_type": "code",
   "execution_count": 11,
   "metadata": {},
   "outputs": [],
   "source": [
    "minimum = 100\n",
    "maximum = 2000"
   ]
  },
  {
   "cell_type": "code",
   "execution_count": 12,
   "metadata": {},
   "outputs": [],
   "source": [
    "length = list()\n",
    "\n",
    "for article in categories[\"text\"]:\n",
    "    tokens = token_pattern.findall(article)\n",
    "    length.append(len(tokens))\n",
    "\n",
    "categories[\"length\"] = length"
   ]
  },
  {
   "cell_type": "code",
   "execution_count": 13,
   "metadata": {},
   "outputs": [
    {
     "data": {
      "text/html": [
       "<div>\n",
       "<style scoped>\n",
       "    .dataframe tbody tr th:only-of-type {\n",
       "        vertical-align: middle;\n",
       "    }\n",
       "\n",
       "    .dataframe tbody tr th {\n",
       "        vertical-align: top;\n",
       "    }\n",
       "\n",
       "    .dataframe thead th {\n",
       "        text-align: right;\n",
       "    }\n",
       "</style>\n",
       "<table border=\"1\" class=\"dataframe\">\n",
       "  <thead>\n",
       "    <tr style=\"text-align: right;\">\n",
       "      <th></th>\n",
       "      <th>category</th>\n",
       "      <th>description</th>\n",
       "      <th>text</th>\n",
       "      <th>length</th>\n",
       "    </tr>\n",
       "  </thead>\n",
       "  <tbody>\n",
       "    <tr>\n",
       "      <th>0</th>\n",
       "      <td>Herrscher</td>\n",
       "      <td>Adaloald (auch Adalwald, Adulubaldus; * 602 in...</td>\n",
       "      <td>Adaloald (auch Adalwald, Adulubaldus; * 602 in...</td>\n",
       "      <td>236</td>\n",
       "    </tr>\n",
       "    <tr>\n",
       "      <th>1</th>\n",
       "      <td>Herrscher</td>\n",
       "      <td>(auch Aelfwine, Elfwine, Aelfuini, Aelfwinus,...</td>\n",
       "      <td>(auch Aelfwine, Elfwine, Aelfuini, Aelfwinus,...</td>\n",
       "      <td>265</td>\n",
       "    </tr>\n",
       "    <tr>\n",
       "      <th>2</th>\n",
       "      <td>Herrscher</td>\n",
       "      <td>(auch: Aescwine; Escuuine) († 676) war von 67...</td>\n",
       "      <td>(auch: Aescwine; Escuuine) († 676) war von 67...</td>\n",
       "      <td>129</td>\n",
       "    </tr>\n",
       "    <tr>\n",
       "      <th>3</th>\n",
       "      <td>Herrscher</td>\n",
       "      <td>I. (auch , , Aedilberct, ,  oder Ethelbert) (...</td>\n",
       "      <td>I. (auch , , Aedilberct, ,  oder Ethelbert) (...</td>\n",
       "      <td>810</td>\n",
       "    </tr>\n",
       "    <tr>\n",
       "      <th>4</th>\n",
       "      <td>Herrscher</td>\n",
       "      <td>(auch , Ethelburga, a, , , , Aethelberg auch ...</td>\n",
       "      <td>(auch , Ethelburga, a, , , , Aethelberg auch ...</td>\n",
       "      <td>283</td>\n",
       "    </tr>\n",
       "  </tbody>\n",
       "</table>\n",
       "</div>"
      ],
      "text/plain": [
       "    category                                        description  \\\n",
       "0  Herrscher  Adaloald (auch Adalwald, Adulubaldus; * 602 in...   \n",
       "1  Herrscher   (auch Aelfwine, Elfwine, Aelfuini, Aelfwinus,...   \n",
       "2  Herrscher   (auch: Aescwine; Escuuine) († 676) war von 67...   \n",
       "3  Herrscher   I. (auch , , Aedilberct, ,  oder Ethelbert) (...   \n",
       "4  Herrscher   (auch , Ethelburga, a, , , , Aethelberg auch ...   \n",
       "\n",
       "                                                text  length  \n",
       "0  Adaloald (auch Adalwald, Adulubaldus; * 602 in...     236  \n",
       "1   (auch Aelfwine, Elfwine, Aelfuini, Aelfwinus,...     265  \n",
       "2   (auch: Aescwine; Escuuine) († 676) war von 67...     129  \n",
       "3   I. (auch , , Aedilberct, ,  oder Ethelbert) (...     810  \n",
       "4   (auch , Ethelburga, a, , , , Aethelberg auch ...     283  "
      ]
     },
     "execution_count": 13,
     "metadata": {},
     "output_type": "execute_result"
    }
   ],
   "source": [
    "categories.head(5)"
   ]
  },
  {
   "cell_type": "code",
   "execution_count": 14,
   "metadata": {},
   "outputs": [],
   "source": [
    "categories = categories[categories[\"length\"] >= minimum].reset_index(drop=True)"
   ]
  },
  {
   "cell_type": "code",
   "execution_count": 15,
   "metadata": {},
   "outputs": [],
   "source": [
    "cut = categories[categories[\"length\"] > maximum]"
   ]
  },
  {
   "cell_type": "code",
   "execution_count": 16,
   "metadata": {},
   "outputs": [],
   "source": [
    "for row, article in cut.iterrows():\n",
    "    tokens = token_pattern.findall(article[\"text\"])\n",
    "    categories.iloc[row, 2] = \" \".join(tokens[:maximum])"
   ]
  },
  {
   "cell_type": "code",
   "execution_count": 17,
   "metadata": {},
   "outputs": [],
   "source": [
    "length = list()\n",
    "\n",
    "for article in categories[\"text\"]:\n",
    "    tokens = token_pattern.findall(article)\n",
    "    length.append(len(tokens))\n",
    "\n",
    "categories[\"length\"] = length"
   ]
  },
  {
   "cell_type": "code",
   "execution_count": 19,
   "metadata": {},
   "outputs": [],
   "source": [
    "categories = categories.drop_duplicates(\"description\")"
   ]
  },
  {
   "cell_type": "code",
   "execution_count": 22,
   "metadata": {},
   "outputs": [],
   "source": [
    "categories.to_csv(\"testing.csv\", index=False)"
   ]
  },
  {
   "cell_type": "code",
   "execution_count": null,
   "metadata": {},
   "outputs": [],
   "source": []
  }
 ],
 "metadata": {
  "kernelspec": {
   "display_name": "Python 3",
   "language": "python",
   "name": "python3"
  },
  "language_info": {
   "codemirror_mode": {
    "name": "ipython",
    "version": 3
   },
   "file_extension": ".py",
   "mimetype": "text/x-python",
   "name": "python",
   "nbconvert_exporter": "python",
   "pygments_lexer": "ipython3",
   "version": "3.7.1"
  }
 },
 "nbformat": 4,
 "nbformat_minor": 2
}
