{
 "cells": [
  {
   "cell_type": "markdown",
   "metadata": {},
   "source": [
    "1. Überprüfen ob \"Description\" und \"Text\" der Artikel deckungsgleich sind und gegebenenfalls die betroffenen Artikel entfernen.\n",
    "2. Nicht-lateinische Schrift entfernen und prüfen ob Heuristiken zur gezielten Entfernung von nicht-deutscher Sprache gefunden werden können (z.B. Originaltitel von Filmen in Klammern hinter dem Artikelnamen)\n",
    "3. Mindestlänge von Artikeln auf 100 Wörter und Maximallänge auf 2000 Wörter festlegen. Artikel die weniger als 100 Wörter enthalten, werden entfernt und durch längere ersetzt. Artikel mit mehr als 2000 Wörtern werden an der Obergrenze abgeschnitten.\n",
    "4. Überlappungen zwischen den verschiedenen Datensätzen vor dem Merge prüfen. (edited) "
   ]
  },
  {
   "cell_type": "code",
   "execution_count": 1,
   "metadata": {},
   "outputs": [],
   "source": [
    "import pandas as pd\n",
    "import collections\n",
    "import json\n",
    "import regex\n",
    "\n",
    "%matplotlib inline"
   ]
  },
  {
   "cell_type": "code",
   "execution_count": 2,
   "metadata": {},
   "outputs": [],
   "source": [
    "categories = pd.read_csv(\"../data/kategorien.csv\")"
   ]
  },
  {
   "cell_type": "markdown",
   "metadata": {},
   "source": [
    "### 1. description == text"
   ]
  },
  {
   "cell_type": "code",
   "execution_count": 3,
   "metadata": {},
   "outputs": [
    {
     "data": {
      "text/plain": [
       "Counter({'Krankheit': 29, 'Soziologie': 28})"
      ]
     },
     "execution_count": 3,
     "metadata": {},
     "output_type": "execute_result"
    }
   ],
   "source": [
    "c = collections.Counter()\n",
    "\n",
    "for category in categories[categories[\"description\"] == categories[\"text\"]][\"category\"]:\n",
    "    c.update([category])\n",
    "\n",
    "c"
   ]
  },
  {
   "cell_type": "markdown",
   "metadata": {},
   "source": [
    "### 2. Nicht-lateinische Schrift"
   ]
  },
  {
   "cell_type": "code",
   "execution_count": 4,
   "metadata": {},
   "outputs": [],
   "source": [
    "token_pattern = regex.compile(r\"\\p{Letter}+\\p{Connector_Punctuation}?\\p{Letter}+|\\p{Number}+\")\n",
    "nonlatin_pattern = regex.compile(r\"\\P{InBasic_Latin}\")"
   ]
  },
  {
   "cell_type": "code",
   "execution_count": 5,
   "metadata": {},
   "outputs": [
    {
     "data": {
      "text/plain": [
       "'የ ላ ቲ ን አ ል ፋ ቤ ት ল া ত ি ন ব র ্ ণ ম া ল া ا َ ل ل ُ ّ غ َ ة ُ ا َ ل ْ ع َ ر َ ب ِ ي َ ّ ة 漢 字 日 本 語'"
      ]
     },
     "execution_count": 5,
     "metadata": {},
     "output_type": "execute_result"
    }
   ],
   "source": [
    "example = \"\"\"Deutsch: lateinisches Alphabet, \n",
    "             Amharisch: የላቲን አልፋቤት,\n",
    "             Bengalisch: লাতিন বর্ণমালা,\n",
    "             Arabisch: اَللُّغَةُ اَلْعَرَبِيَّة,\n",
    "             Chinesisch: 漢字,\n",
    "             Japanisch: 日本語\"\"\"\n",
    "\" \".join(nonlatin_pattern.findall(example))"
   ]
  },
  {
   "cell_type": "code",
   "execution_count": 6,
   "metadata": {},
   "outputs": [],
   "source": [
    "foreign = list()\n",
    "\n",
    "for article in categories[\"text\"]:\n",
    "    for token in token_pattern.findall(str(article)):\n",
    "        match = nonlatin_pattern.findall(token)\n",
    "        if match\\\n",
    "        and \"ä\" not in token\\\n",
    "        and \"ö\" not in token\\\n",
    "        and \"ü\" not in token\\\n",
    "        and \"Ä\" not in token\\\n",
    "        and \"Ö\" not in token\\\n",
    "        and \"Ü\" not in token\\\n",
    "        and \"ß\" not in token:\n",
    "            foreign.append(token)"
   ]
  },
  {
   "cell_type": "code",
   "execution_count": 7,
   "metadata": {},
   "outputs": [
    {
     "data": {
      "text/plain": [
       "<matplotlib.axes._subplots.AxesSubplot at 0x7ff1820c86a0>"
      ]
     },
     "execution_count": 7,
     "metadata": {},
     "output_type": "execute_result"
    },
    {
     "data": {
      "image/png": "[encoded data removed]",
      "text/plain": [
       "<Figure size 432x288 with 1 Axes>"
      ]
     },
     "metadata": {
      "needs_background": "light"
     },
     "output_type": "display_data"
    }
   ],
   "source": [
    "pd.Series(foreign).value_counts()[:20].plot.barh(color=\"grey\")"
   ]
  },
  {
   "cell_type": "code",
   "execution_count": 8,
   "metadata": {},
   "outputs": [],
   "source": [
    "def drop_nonlatin(articles):\n",
    "    latin = list()\n",
    "    for text in articles:\n",
    "        for token in foreign:\n",
    "            text = str(text).replace(token, \"\")\n",
    "        latin.append(text)\n",
    "    return latin"
   ]
  },
  {
   "cell_type": "code",
   "execution_count": null,
   "metadata": {},
   "outputs": [],
   "source": [
    "categories[\"description\"] = drop_nonlatin(categories[\"description\"])\n",
    "categories[\"text\"] = drop_nonlatin(categories[\"text\"])"
   ]
  },
  {
   "cell_type": "markdown",
   "metadata": {},
   "source": [
    "### 3. Mindest- bzw. Maximallänge"
   ]
  },
  {
   "cell_type": "code",
   "execution_count": null,
   "metadata": {},
   "outputs": [],
   "source": [
    "minimum = 100\n",
    "maximum = 2000"
   ]
  },
  {
   "cell_type": "code",
   "execution_count": null,
   "metadata": {},
   "outputs": [],
   "source": [
    "length = list()\n",
    "\n",
    "for article in categories[\"text\"]:\n",
    "    tokens = token_pattern.findall(article)\n",
    "    length.append(len(tokens))\n",
    "\n",
    "categories[\"length\"] = length"
   ]
  },
  {
   "cell_type": "code",
   "execution_count": null,
   "metadata": {},
   "outputs": [],
   "source": [
    "categories.head(5)"
   ]
  },
  {
   "cell_type": "code",
   "execution_count": null,
   "metadata": {},
   "outputs": [],
   "source": [
    "categories = categories[categories[\"length\"] >= minimum].reset_index(drop=True)"
   ]
  },
  {
   "cell_type": "code",
   "execution_count": null,
   "metadata": {},
   "outputs": [],
   "source": [
    "cut = categories[categories[\"length\"] > maximum]"
   ]
  },
  {
   "cell_type": "code",
   "execution_count": null,
   "metadata": {},
   "outputs": [],
   "source": [
    "for row, article in cut.iterrows():\n",
    "    tokens = token_pattern.findall(article[\"text\"])\n",
    "    categories.iloc[row, 2] = \" \".join(tokens[:maximum])"
   ]
  },
  {
   "cell_type": "code",
   "execution_count": null,
   "metadata": {},
   "outputs": [],
   "source": [
    "length = list()\n",
    "\n",
    "for article in categories[\"text\"]:\n",
    "    tokens = token_pattern.findall(article)\n",
    "    length.append(len(tokens))\n",
    "\n",
    "categories[\"length\"] = length"
   ]
  },
  {
   "cell_type": "code",
   "execution_count": null,
   "metadata": {},
   "outputs": [],
   "source": []
  }
 ],
 "metadata": {
  "kernelspec": {
   "display_name": "Python 3",
   "language": "python",
   "name": "python3"
  },
  "language_info": {
   "codemirror_mode": {
    "name": "ipython",
    "version": 3
   },
   "file_extension": ".py",
   "mimetype": "text/x-python",
   "name": "python",
   "nbconvert_exporter": "python",
   "pygments_lexer": "ipython3",
   "version": "3.7.1"
  }
 },
 "nbformat": 4,
 "nbformat_minor": 2
}
