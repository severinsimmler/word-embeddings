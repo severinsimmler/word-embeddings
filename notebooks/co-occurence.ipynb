{
 "cells": [
  {
   "cell_type": "markdown",
   "metadata": {},
   "source": [
    "# Creating a term-term co-occurence matrix and word vectors\n",
    "## Using the german wikipedia as source"
   ]
  },
  {
   "cell_type": "markdown",
   "metadata": {},
   "source": [
    "Extract the useful data from the wiki dumb using wikiextractor:\n",
    "\n",
    "https://github.com/attardi/wikiextractor\n",
    "\n",
    "```bash\n",
    "python WikiExtractor.py path/to/dump --json \n",
    "```\n",
    "\n",
    "WikiExtractor splits the dump into various folder with 100 files each. This allows easy sequential reading regarding the amount of data.\n",
    "\n",
    "Using --json is just a personal preference because parsing json is – imo – far easier than XML."
   ]
  },
  {
   "cell_type": "code",
   "execution_count": 12,
   "metadata": {},
   "outputs": [],
   "source": [
    "import os\n",
    "import ijson\n",
    "import json\n",
    "from collections import defaultdict\n",
    "from nltk.tokenize import RegexpTokenizer, sent_tokenize\n",
    "from nltk.corpus import stopwords\n",
    "import pickle "
   ]
  },
  {
   "cell_type": "code",
   "execution_count": 13,
   "metadata": {},
   "outputs": [],
   "source": [
    "window_size = 2\n",
    "path_to_corpus = \"/home/mn/MEGA/Master Digital Humanities/WS1819/Word Embedding/wiki_corpus\""
   ]
  },
  {
   "cell_type": "markdown",
   "metadata": {},
   "source": [
    "#### Read previously generated file cointaining the 10k most frequent words (excluding stop words) in the corpus\n",
    "\n",
    "Created by tokenizing and using Collections.counter"
   ]
  },
  {
   "cell_type": "code",
   "execution_count": 14,
   "metadata": {},
   "outputs": [],
   "source": [
    "with open(\"/home/mn/MEGA/Master Digital Humanities/WS1819/Word Embedding/most_frequent_words.pkl\", \"rb\") as p:\n",
    "    mfw = pickle.load(p)"
   ]
  },
  {
   "cell_type": "markdown",
   "metadata": {},
   "source": [
    "#### Create \"pseudo\" sparse matrix by creating nested defaultdict (initialized with 0)\n",
    "defaultdicts generate \"empty\" values on the fly so theses indices don't need memory/space unless requested"
   ]
  },
  {
   "cell_type": "code",
   "execution_count": 28,
   "metadata": {},
   "outputs": [],
   "source": [
    "sparse_matrix = defaultdict(lambda: defaultdict(lambda: 0))"
   ]
  },
  {
   "cell_type": "code",
   "execution_count": 29,
   "metadata": {},
   "outputs": [],
   "source": [
    "tokenizer = RegexpTokenizer(r'\\w+')\n",
    "stopWords = set(stopwords.words('german'))"
   ]
  },
  {
   "cell_type": "code",
   "execution_count": 38,
   "metadata": {},
   "outputs": [],
   "source": [
    "for root, dirs, files in os.walk(path_to_corpus):\n",
    "    for file_ in files:\n",
    "        with open(os.path.join(root, file_), 'r') as f:\n",
    "            data = \"[\" + f.read()[:-2] + \"]\"\n",
    "            json_data = json.loads(data)\n",
    "            for row in json_data:\n",
    "                for sentence in sent_tokenize(row[\"text\"]):\n",
    "                    tokens = tokenizer.tokenize(sentence)\n",
    "                    for token in tokens:\n",
    "                        if token in mfw:\n",
    "                            #word window\n",
    "                            for i in [x for x in range(-window_size, window_size + 1) if x != 0]:\n",
    "                                if tokens.index(token) + i >= 0:\n",
    "                                    try:\n",
    "                                        if tokens[tokens.index(token) + i] not in stopWords:\n",
    "                                            sparse_matrix[token][tokens[tokens.index(token) + i]] += 1\n",
    "                                    except IndexError:\n",
    "                                        pass\n",
    "                                    continue"
   ]
  },
  {
   "cell_type": "code",
   "execution_count": 42,
   "metadata": {},
   "outputs": [
    {
     "name": "stdout",
     "output_type": "stream",
     "text": [
      "defaultdict(<function <lambda>.<locals>.<lambda> at 0x7f68afabc488>, {'1939': 4, 'nach': 88, 'zurück': 10, 'Staaten': 212, 'von': 126, 'verbundene': 2, 'St': 2, 'Auch': 8, 'warf': 2, 'er': 10, 'Heidelberg': 2, 'das': 24, 'Haus': 12, 'Deutsch': 2, 'Europa': 58, 'und': 137, 'etwa': 4, 'für': 10, 'Neuwelt': 2, 'Species': 2, 'ursprünglich': 2, 'in': 160, 'sonst': 1, 'Nach': 6, 'Greenbergs': 2, 'Theorie': 2, '1987': 2, 'Afrika': 20, 'kamen': 6, 'hin': 1, 'vielfach': 2, 'nachgespielt': 2, 'Dreivierteltakt': 2, 'nicht': 9, 'Kirche': 16, 'erinnern': 2, 'am': 4, 'bis': 2, 'verschifft': 2, 'wurden': 8, 'Kontinenten': 2, 'Asien': 14, 'so': 3, 'wo': 5, 'die': 31, 'Kolonien': 10, 'waren': 3, 'dem': 11, 'Vereinigten': 2, 'millionenfach': 2, 'verbreitet': 6, 'Koch': 2, 'ins': 1, 'der': 34, 'damaligen': 2, 'sind': 6, 'Jahre': 4, 'aus': 27, 'Allianz': 4, 'ALBA': 4, 'im': 13, 'Jahr': 2, 'Siedlung': 4, 'zu': 16, 'konzentrieren': 2, 'Demokratie': 2, 'De': 2, 'la': 2, 'fuhr': 2, 'impfte': 2, 'Sammlern': 2, 'CSA': 2, 'übergetreten': 2, '440': 2, 'zurückgekehrt': 2, 'besuchte': 2, 'amtlich': 2, 'President': 2, 'Geldwert': 2, 'Entdeckern': 2, 'später': 6, 'Australien': 22, 'Kolumbus': 4, 'entdeckte': 6, 'ausgewanderten': 2, 'Litauern': 2, 'In': 48, 'reicht': 4, 'ihr': 2, 'Warschauer': 2, 'Dankbarkeits': 2, 'Denkmal': 2, 'Königreich': 2, 'zerstört': 2, 'Christoph': 2, 'Abkommen': 2, 'Chininrinde': 2, 'Obstbäume': 2, 'England': 10, 'einer': 2, 'mit': 10, '611': 2, 'Region': 2, '2': 2, 'oder': 7, 'Ruf': 2, 'Marsmenschen': 2, 'angriffen': 2, 'über': 4, 'damit': 1, 'vereidigt': 2, 'Teil': 8, 'Überzeugung': 2, 'müsse': 2, 'des': 4, 'späteren': 2, 'Menschen': 2, 'seien': 2, 'Völkermördern': 2, 'stand': 2, 'nahm': 2, 'unterschiedliche': 2, 'Formen': 2, 'wurde': 32, 'Whiskey': 2, 'Brennereien': 2, 'schließen': 2, 'Prohibition': 2, 'als': 10, 'Arznei': 2, 'Hauspferd': 2, 'geleitet': 2, 'Honorare': 4, 'ermöglichten': 4, 'Dvořák': 4, 'den': 6, 'entstandenen': 2, 'Werken': 2, 'war': 6, 'enttäuscht': 2, 'da': 1, 'Lesereise': 2, 'auf': 8, 'Gipfel': 2, 'Kaiser': 2, 'Schutzherren': 2, 'bereits': 6, 'ausrangierten': 2, 'Verschiffung': 2, 'hier': 1, 'verfolgte': 2, 'man': 2, 'eröffnet': 2, 'Familien': 2, 'Eurasien': 4, 'entstanden': 2, 'offensichtlich': 2, 'auch': 13, 'während': 1, 'sie': 4, 'aber': 1, 'erstmals': 8, 'betraten': 2, 'entstand': 4, 'Spanien': 2, 'sogenannten': 2, 'Trilogie': 2, 'kommerziell': 2, 'einmal': 6, 'vor': 4, 'Pogromen': 2, 'auswanderten': 2, 'Kanada': 2, '2006': 2, 'hat': 4, 'Privatsphäre': 2, 'Entdeckungen': 2, 'Bleierze': 2, 'komplementieren': 2, 'sollte': 1, 'Zentral': 2, 'ausschließlich': 4, 'beheimatet': 2, 'Zeit': 6, 'beschränkt': 2, 'werden': 3, 'wird': 5, 'Sätze': 2, '1970': 2, 'viele': 6, 'Nationalverbände': 2, 'Papieres': 2, 'sprechen': 2, 'vereinzelt': 2, 'Pazifik': 2, 'transportierten': 2, 'präkolumbischen': 2, 'deren': 2, 'Frankreich': 8, 'erschienen': 2, 'Übersetzungen': 2, 'flohen': 2, 'kehrten': 2, 'Kontinentalplatten': 2, 'einerseits': 2, 'Physikern': 2, 'schrieb': 4, 'entwickelten': 2, 'sich': 8, 'Lungenpest': 2, 'häufig': 6, 'Pocken': 2, 'fünf': 2, 'Ziffern': 2, 'selben': 2, 'Atlantik': 2, '3': 2, '4': 2, '0': 2, 'Mal': 4, 'Datenaustausch': 2, 'sodass': 2, 'praktiziert': 2, 'sieht': 2, 'ist': 8, 'Ostasien': 4, 'Auswanderungsland': 2, 'besondere': 2, 'ganz': 12, 'an': 1, 'fünfter': 2, 'zur': 3, 'Silver': 2, 'Peak': 2, 'Spanisch': 2, 'indem': 1, 'es': 4, 'Begriffsklärung': 16, 'Der': 16, 'USA': 8, 'Rangsysteme': 2, 'bald': 4, 'emigrierte': 2, 'Anbau': 2, 'sehr': 2, 'weit': 8, 'neu': 2, 'entdeckten': 2, 'Abwanderungsrate': 2, 'bestimmt': 2, 'bezeichneten': 4, 'Kontinents': 2, 'einem': 1, 'Emigration': 2, 'noch': 2, 'sein': 2, 'Gedenktag': 2, 'Mexiko': 2, 'tropisch': 2, 'subtropischen': 2, 'missionierten': 2, 'wobei': 6, 'Feiertages': 2, 'begann': 2, 'Desinfektionsverfahren': 2, '1845': 2, 'machte': 4, 'anschloss': 2, 'siehe': 2, 'Kolonie': 4, 'Expedition': 2, 'gegründet': 2, 'Buffon': 4, 'Auffassung': 4, 'pendelte': 2, 'vorgeblich': 2, 'liberale': 2, 'bewusst': 2, 'Weg': 2, 'realisieren': 4, 'Urteil': 2, 'sieben': 2, 'vier': 2, 'Northern': 2, 'Pacific': 2, 'lernte': 4, 'Hamilton': 2, 'Telegrafenleitungen': 2, 'funktionierten': 2, 'diese': 2, 'Juden': 2, 'weiter': 1, 'Brücke': 2, '1787': 2, 'Beispiele': 4, 'Sirk': 2, 'zog': 2, 'Gesellschaftsregeln': 2, 'Sirks': 2, 'Melodramen': 2, 'ausgehenden': 2, 'Hippie': 2, 'dank': 2, 'Afrikaner': 2, 'verschleppt': 6, 'luden': 2, 'Kolonialwaren': 2, 'schifften': 2, 'Kanadas': 2, 'davon': 2, 'gelegene': 2, 'was': 1, 'um': 2, 'integrierten': 2, 'Amerigo': 2, 'Vespucci': 2, 'Seehandels': 2, 'bekannten': 2, 'Europäer': 2, 'ein': 5, 'Die': 6, 'verschleppten': 2, 'afrikanischen': 2, '1974': 2, 'bemerkbar': 2, 'Seewege': 2, 'Indien': 2, 'Im': 2, 'übrigen': 2, 'lebten': 2, 'lokale': 2, 'blockierten': 2, 'Atlantiks': 2, 'seit': 4, 'China': 2, 'Kreise': 2, 'schürt': 2, 'Westeuropa': 4, 'Kolonialreiche': 2, 'beziehungsweise': 2, 'Connecticut': 2, 'Flüsse': 2, 'stehen': 2, 'kurz': 2, 'allem': 1, 'kann': 1, 'neben': 2, 'Tournee': 2, 'Trennung': 2, 'soll': 1, 'Beziehungen': 2, 'abzubrechen': 2, 'Großmacht': 2, 'derart': 2, 'erniedrigt': 2, 'erkämpft': 2, 'gedemütigt': 2, 'hatten': 2, 'nannte': 4, 'Neben': 2, 'Vorfahren': 4, 'haben': 1, 'frühgeschichtlicher': 2, 'Indianer': 2, 'spanischsprachigen': 2, 'Einwanderer': 2, 'stark': 2, 'umstritten': 2, 'richteten': 2, 'überall': 2, 'viel': 1, 'sechs': 2, 'Areale': 2, '17': 2, 'verbreiteten': 2, 'Weißgrauen': 2, 'Festungsanlage': 2, 'Spanier': 6, 'Ballett': 2, 'Kino': 2, 'Handel': 2, 'abwickelten': 2, 'Gießen': 2, 'abgelehnt': 2, 'hatte': 4, 'ab': 4, 'Ende': 4, 'wanderten': 4, 'gewählt': 6, 'obwohl': 2, 'gründen': 2, 'eingeführt': 4, 'Antarktis': 4, 'Das': 4, 'Eisenhower': 2, 'fatal': 2, 'Patriotismus': 2, 'beweisen': 2, 'wollte': 2, 'Kriegsdokumentationen': 2, 'beteiligt': 2, 'z': 2, 'Titel': 4, 'veröffentlicht': 2, 'Deutschland': 6, 'sowie': 6, 'Franziskaner': 2, 'wie': 3, 'freie': 2, '1936': 2, 'münzten': 2, 'tauchten': 2, 'Berichte': 2, '1943': 2, 'stellte': 2, 'Botulinumtoxin': 2, 'Nord': 4, 'Kontinente': 2, 'humangeographischen': 2, 'durch': 4, 'Beringia': 2, 'lebende': 2, 'Grieche': 2, 'landete': 2, '1994': 2, 'eingeführte': 2, 'Gartenbohne': 2, 'Japan': 4, 'Beteiligungen': 2, 'ihn': 2, 'bei': 1, 'Däumlings': 2, 'Gabriela': 2, 'Mistral': 2, 'eine': 3, 'Zentren': 2, 'Weltkrieg': 2, 'gekommene': 2, 'ultraorthodoxe': 2, 'Aussprache': 2, 'Horsford': 2, 'Kriegszustand': 2, 'Ozeanien': 2, 'Auswanderer': 2, 'gelangte': 2, 'lehrt': 2, 'dass': 6, 'entworfene': 2, 'Logistikdienstleistungen': 2, 'Unternehmensaktivitäten': 2, 'planen': 2, 'Hausrind': 2, 'Ländern': 2, 'zugebilligt': 2, 'worden': 2, 'W': 2, 'Bush': 2, '1979': 2, 'gefolgt': 2, 'Portugiesische': 2, 'seine': 5, 'Alternative': 2, 'Material': 2, 'befriedigt': 2, 'Produzent': 2, 'u': 2, 'a': 2, 'beschäftigt': 2, 'neue': 2, 'außerhalb': 2, 'Superman': 2, 'wahrhaft': 2, 'freien': 2, 'Deutsche': 2, 'somit': 2, 'Pferdezucht': 2, 'lag': 2, 'auswanderte': 2, 'Atlantiküberquerung': 2, '1830': 2, '1837': 2, 'wiederholt': 2, 'zutragen': 2, 'Industrialisierung': 2, 'silvatischer': 2, 'zunehmend': 2, 'industrialisierten': 2, 'wenig': 2, 'Interesse': 2, 'etablierte': 2, 'Brockenbuch': 2, 'konservativen': 2, '1950er': 4, 'Film': 2, 'lediglich': 2, '9': 2, 'gibt': 2, 'Spaniens': 2, 'Weltkriegs': 2, 'ausgewandert': 6, 'Südostasien': 4, 'Überfahrt': 4, 'leichter': 2, 'machten': 2, 'Wasser': 2, 'Handels': 2, 'dort': 1, 'findet': 2, 'Mission': 2, 'Frachter': 2, 'See': 2, 'unser': 1, 'riesiges': 2, 'mich': 1, 'Sein': 2, 'stammender': 2, 'Zahnarzt': 2, 'immer': 4, 'auszuwandern': 2, 'Er': 2, 'vorwiegend': 2, 'Jahrhunderts': 2, 'schon': 2, 'zusammenführte': 2, 'Gemeinden': 2, 'begründet': 2, 'Während': 2, 'weltweiten': 2, 'Übersiedlung': 2, 'dafür': 2, 'Engel': 4, '2003': 4, 'brachte': 2, 'zum': 3, 'Erdteil': 2, 'gehört': 2, 'Anthropologie': 2, 'erste': 2, 'Reise': 2, 'Cultura': 2, 'Strecke': 2, 'Polynesien': 2, 'Nordostpassat': 2, 'erreichen': 2, 'geschickt': 2, 'bilden': 2, 'Norfolk': 2, 'städtische': 2, 'beachteten': 2, 'Politiker': 2, 'gratulierte': 2, 'Merkel': 2, 'Gesellschaft': 4, 'Katherine': 2, 'Tingley': 2, 'Westfeste': 2, 'veröffentlichten': 2, 'finden': 2, 'lustig': 2, 'sei': 6, 'ausgestellt': 2, 'Jerusalem': 2, 'Exemplaren': 2, 'begannen': 2, 'Katerstimmung': 2, '1914': 2, 'Schweiz': 2, 'emigrierten': 2, 'Musikers': 2, 'Sklaven': 2, '20': 2, 'Um': 2, 'Filme': 2, 'Russland': 2, 'Wende': 2, 'überqueren': 2, 'modernes': 2, 'liberales': 2, 'werben': 2, 'Westafrika': 2, 'beherbergen': 2, 'nur': 1, 'Häuser': 2, 'Frankfurter': 2, 'Hauses': 2, 'Teilen': 2, 'Paradies': 2, 'Zentralamerika': 2, 'Besitzungen': 2, 'insbesondere': 2, '1951': 2, '1953': 2, 'Rückwanderer': 2, 'sammelten': 2, 'stärken': 2, 'Vietnamkrieg': 2, 'Wicca': 6, 'Kultur': 2, 'gelangen': 2, 'Bezeichnung': 2, '13': 2, 'sehen': 2, 'Anwesenheit': 2, 'öffentlich': 2, 'Rückweg': 2, 'Ankunft': 2, 'unproduktive': 2, 'abermals': 2, 'Schiff': 2, 'Gastheimat': 2, 'seiner': 1, 'Künstlern': 2, 'naive': 2, 'Begeisterung': 2, 'wohnte': 2, 'Grosz': 2, 'erfolgreich': 2, 'sowohl': 2, 'Sicht': 2, 'auswandern': 2, 'wollten': 2, 'HAPAG': 2, 'Dampfer': 2, 'Brasilien': 2, 'Initiative': 2, 'Schwestern': 2, 'erinnert': 2, 'Kuba': 2, 'besonders': 6, 'Besonders': 2, 'weiterhin': 2, 'verschollen': 2, '1984': 2, '80': 2, 'Wie': 2, 'voraus': 4, 'ebenso': 2, 'übernommen': 2, 'gehörten': 2, 'diesen': 1, 'Bemühungen': 2, 'früh': 2, 'ich': 1, 'vermißte': 2, 'leben': 2, 'erhielt': 2, 'bewirkte': 2, 'ungefähr': 2, '320': 2, 'nördliche': 2, 'einwandern': 2, 'Beuteltiere': 2, 'wenngleich': 2, 'Projekt': 2, 'Vergleich': 2, 'Institution': 2, 'besäße': 2, 'größerer': 2, 'allein': 2, 'gefunden': 2, 'gab': 2, 'Grundsiedlungseinheiten': 2, 'Babí': 4, 'System': 4, 'gegen': 3, 'gedeutet': 2, 's': 2, 'o': 2, 'Indonesien': 2, 'Südamerika': 2, 'Kontinent': 4, 'seinen': 2, 'Namen': 4, 'ohne': 1, 'Gerhard': 2, 'Revolution': 2, 'elektrischer': 2, 'Richtung': 2, '1913': 2, 'Schlosskonstruktionen': 2, 'welche': 1, 'mehr': 2, 'Wertgegenstände': 2, 'darzustellen': 2, 'Bremen': 2, '463': 2, 'entwickelt': 2, 'politische': 2, 'Freiheit': 2, 'quer': 2, 'Unterschiede': 2, 'zwischen': 1, 'Großbritannien': 2, 'Sextanten': 2, 'Festung': 2, 'Landbrücke': 2, 'darüber': 2, 'nahe': 2, 'drei': 2, 'Thomas': 2, 'Alva': 2, 'Vier': 2, 'vertrat': 2, 'ausgebreitet': 2, 'innerhalb': 2, 'Jahren': 2, 'eingewandert': 2, 'Madagaskar': 2, 'Kontrast': 2, 'ihrer': 1, 'Entstehungszeit': 2, 'Festland': 2, 'ausbreitete': 2, 'veröffentlichte': 2, 'Islam': 2, 'gesegnet': 2, 'zerstören': 2, 'bestätigt': 2, 'habe': 1, 'werde': 1, 'nie': 2, 'Villa': 2, 'gerade': 2, 'Kunst': 2, 'Ambivalenz': 2, 'Künstler': 2, 'Flucht': 2, '1940': 2, 'ging': 2, 'Abreise': 2, 'Bedeutung': 2, 'produziert': 2, 'Kati': 2, '1950': 2, 'Geschehene': 2, 'betrifft': 2, '1492': 2, 'brauchte': 2, 'bedeutet': 2, 'Südafrika': 2, 'Palästina': 2, 'fanden': 2, 'Sie': 2, 'Formulierung': 2, 'Amerikanischen': 2, 'dahsiudhwqdiuwqhdwq': 0})\n"
     ]
    }
   ],
   "source": [
    "print(sparse_matrix[\"Amerika\"])"
   ]
  },
  {
   "cell_type": "code",
   "execution_count": null,
   "metadata": {},
   "outputs": [],
   "source": []
  }
 ],
 "metadata": {
  "kernelspec": {
   "display_name": "Python 3",
   "language": "python",
   "name": "python3"
  },
  "language_info": {
   "codemirror_mode": {
    "name": "ipython",
    "version": 3
   },
   "file_extension": ".py",
   "mimetype": "text/x-python",
   "name": "python",
   "nbconvert_exporter": "python",
   "pygments_lexer": "ipython3",
   "version": "3.6.7"
  }
 },
 "nbformat": 4,
 "nbformat_minor": 2
}
