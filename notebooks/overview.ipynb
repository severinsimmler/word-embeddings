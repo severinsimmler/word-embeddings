{
 "cells": [
  {
   "cell_type": "code",
   "execution_count": 1,
   "metadata": {},
   "outputs": [],
   "source": [
    "import pandas as pd\n",
    "\n",
    "%matplotlib inline"
   ]
  },
  {
   "cell_type": "code",
   "execution_count": 2,
   "metadata": {},
   "outputs": [
    {
     "data": {
      "text/html": [
       "<div>\n",
       "<style scoped>\n",
       "    .dataframe tbody tr th:only-of-type {\n",
       "        vertical-align: middle;\n",
       "    }\n",
       "\n",
       "    .dataframe tbody tr th {\n",
       "        vertical-align: top;\n",
       "    }\n",
       "\n",
       "    .dataframe thead th {\n",
       "        text-align: right;\n",
       "    }\n",
       "</style>\n",
       "<table border=\"1\" class=\"dataframe\">\n",
       "  <thead>\n",
       "    <tr style=\"text-align: right;\">\n",
       "      <th></th>\n",
       "      <th>category</th>\n",
       "      <th>description</th>\n",
       "      <th>text</th>\n",
       "      <th>length</th>\n",
       "    </tr>\n",
       "  </thead>\n",
       "  <tbody>\n",
       "    <tr>\n",
       "      <th>0</th>\n",
       "      <td>Herrscher</td>\n",
       "      <td>Adaloald (auch Adalwald, Adulubaldus; * 602 in...</td>\n",
       "      <td>Adaloald (auch Adalwald, Adulubaldus; * 602 in...</td>\n",
       "      <td>236</td>\n",
       "    </tr>\n",
       "    <tr>\n",
       "      <th>1</th>\n",
       "      <td>Herrscher</td>\n",
       "      <td>(auch Aelfwine, Elfwine, Aelfuini, Aelfwinus,...</td>\n",
       "      <td>(auch Aelfwine, Elfwine, Aelfuini, Aelfwinus,...</td>\n",
       "      <td>265</td>\n",
       "    </tr>\n",
       "    <tr>\n",
       "      <th>2</th>\n",
       "      <td>Herrscher</td>\n",
       "      <td>(auch: Aescwine; Escuuine) († 676) war von 67...</td>\n",
       "      <td>(auch: Aescwine; Escuuine) († 676) war von 67...</td>\n",
       "      <td>129</td>\n",
       "    </tr>\n",
       "    <tr>\n",
       "      <th>3</th>\n",
       "      <td>Herrscher</td>\n",
       "      <td>I. (auch , , Aedilberct, ,  oder Ethelbert) (...</td>\n",
       "      <td>I. (auch , , Aedilberct, ,  oder Ethelbert) (...</td>\n",
       "      <td>810</td>\n",
       "    </tr>\n",
       "    <tr>\n",
       "      <th>4</th>\n",
       "      <td>Herrscher</td>\n",
       "      <td>(auch , Ethelburga, a, , , , Aethelberg auch ...</td>\n",
       "      <td>(auch , Ethelburga, a, , , , Aethelberg auch ...</td>\n",
       "      <td>283</td>\n",
       "    </tr>\n",
       "  </tbody>\n",
       "</table>\n",
       "</div>"
      ],
      "text/plain": [
       "    category                                        description  \\\n",
       "0  Herrscher  Adaloald (auch Adalwald, Adulubaldus; * 602 in...   \n",
       "1  Herrscher   (auch Aelfwine, Elfwine, Aelfuini, Aelfwinus,...   \n",
       "2  Herrscher   (auch: Aescwine; Escuuine) († 676) war von 67...   \n",
       "3  Herrscher   I. (auch , , Aedilberct, ,  oder Ethelbert) (...   \n",
       "4  Herrscher   (auch , Ethelburga, a, , , , Aethelberg auch ...   \n",
       "\n",
       "                                                text  length  \n",
       "0  Adaloald (auch Adalwald, Adulubaldus; * 602 in...     236  \n",
       "1   (auch Aelfwine, Elfwine, Aelfuini, Aelfwinus,...     265  \n",
       "2   (auch: Aescwine; Escuuine) († 676) war von 67...     129  \n",
       "3   I. (auch , , Aedilberct, ,  oder Ethelbert) (...     810  \n",
       "4   (auch , Ethelburga, a, , , , Aethelberg auch ...     283  "
      ]
     },
     "execution_count": 2,
     "metadata": {},
     "output_type": "execute_result"
    }
   ],
   "source": [
    "categories = pd.read_csv(\"../data/kategorien.csv\")\n",
    "categories.head(5)"
   ]
  },
  {
   "cell_type": "markdown",
   "metadata": {},
   "source": [
    "## Verteilung der Kategorien"
   ]
  },
  {
   "cell_type": "code",
   "execution_count": 3,
   "metadata": {},
   "outputs": [
    {
     "data": {
      "text/plain": [
       "Text(0, 0.5, 'Kategorie')"
      ]
     },
     "execution_count": 3,
     "metadata": {},
     "output_type": "execute_result"
    },
    {
     "data": {
      "image/png": "[encoded data removed]",
      "text/plain": [
       "<Figure size 432x288 with 1 Axes>"
      ]
     },
     "metadata": {
      "needs_background": "light"
     },
     "output_type": "display_data"
    }
   ],
   "source": [
    "ax = categories[\"category\"].value_counts().plot.barh(color=\"grey\")\n",
    "ax.set_xlabel(\"Anzahl Artikel\")\n",
    "ax.set_ylabel(\"Kategorie\")"
   ]
  },
  {
   "cell_type": "markdown",
   "metadata": {},
   "source": [
    "### Verteilung der Artikellängen im gesamten Korpus"
   ]
  },
  {
   "cell_type": "code",
   "execution_count": 4,
   "metadata": {},
   "outputs": [
    {
     "name": "stdout",
     "output_type": "stream",
     "text": [
      "Standardabweichung: 693.8369333184421\n",
      "Arithmetisches Mittel: 1050.6754342431761\n",
      "Median: 880.0\n"
     ]
    }
   ],
   "source": [
    "print(f\"Standardabweichung: {categories['length'].std()}\")\n",
    "print(f\"Arithmetisches Mittel: {categories['length'].mean()}\")\n",
    "print(f\"Median: {categories['length'].median()}\")"
   ]
  },
  {
   "cell_type": "code",
   "execution_count": 5,
   "metadata": {},
   "outputs": [
    {
     "data": {
      "text/plain": [
       "Text(0, 0.5, 'Artikellänge in Tokens')"
      ]
     },
     "execution_count": 5,
     "metadata": {},
     "output_type": "execute_result"
    },
    {
     "data": {
      "image/png": "[encoded data removed]",
      "text/plain": [
       "<Figure size 432x288 with 1 Axes>"
      ]
     },
     "metadata": {
      "needs_background": "light"
     },
     "output_type": "display_data"
    }
   ],
   "source": [
    "ax = categories.plot.box(color=\"black\")\n",
    "ax.set_xticklabels([\"Gesamtes Korpus\"])\n",
    "ax.set_ylabel(\"Artikellänge in Tokens\")"
   ]
  },
  {
   "cell_type": "markdown",
   "metadata": {},
   "source": [
    "### Verteilung der Artikellängen in einzelnen Kategorien"
   ]
  },
  {
   "cell_type": "code",
   "execution_count": 8,
   "metadata": {},
   "outputs": [],
   "source": [
    "properties = dict()\n",
    "groups = dict()\n",
    "\n",
    "for category, articles in categories.groupby(\"category\"):\n",
    "    properties[category] = {\"median\": articles[\"length\"].median(),\n",
    "                            \"std\": articles[\"length\"].std()}\n",
    "    groups[category] = articles[\"length\"].tolist()"
   ]
  },
  {
   "cell_type": "code",
   "execution_count": 9,
   "metadata": {},
   "outputs": [],
   "source": [
    "properties = pd.DataFrame(properties).T\n",
    "groups = pd.DataFrame(groups)"
   ]
  },
  {
   "cell_type": "code",
   "execution_count": 10,
   "metadata": {},
   "outputs": [
    {
     "data": {
      "text/plain": [
       "Text(0.5, 0, 'Artikellänge in Tokens')"
      ]
     },
     "execution_count": 10,
     "metadata": {},
     "output_type": "execute_result"
    },
    {
     "data": {
      "image/png": "[encoded data removed]",
      "text/plain": [
       "<Figure size 432x288 with 1 Axes>"
      ]
     },
     "metadata": {
      "needs_background": "light"
     },
     "output_type": "display_data"
    }
   ],
   "source": [
    "ax = groups.plot.box(color=\"black\", vert=False)\n",
    "ax.set_ylabel(\"Kategorie\")\n",
    "ax.set_xlabel(\"Artikellänge in Tokens\")"
   ]
  },
  {
   "cell_type": "markdown",
   "metadata": {},
   "source": [
    "### Verteilung des Medians und der Standardabweichung in einzelnen Kategorien"
   ]
  },
  {
   "cell_type": "markdown",
   "metadata": {},
   "source": [
    "#### Median"
   ]
  },
  {
   "cell_type": "code",
   "execution_count": 11,
   "metadata": {},
   "outputs": [
    {
     "data": {
      "text/plain": [
       "Text(0, 0.5, 'Kategorie')"
      ]
     },
     "execution_count": 11,
     "metadata": {},
     "output_type": "execute_result"
    },
    {
     "data": {
      "image/png": "[encoded data removed]",
      "text/plain": [
       "<Figure size 432x288 with 1 Axes>"
      ]
     },
     "metadata": {
      "needs_background": "light"
     },
     "output_type": "display_data"
    }
   ],
   "source": [
    "ax = properties[\"median\"].plot.barh(color=\"grey\")\n",
    "ax.set_xlabel(\"Median\")\n",
    "ax.set_ylabel(\"Kategorie\")"
   ]
  },
  {
   "cell_type": "markdown",
   "metadata": {},
   "source": [
    "#### Standardabweichung"
   ]
  },
  {
   "cell_type": "code",
   "execution_count": 12,
   "metadata": {},
   "outputs": [
    {
     "data": {
      "text/plain": [
       "Text(0, 0.5, 'Kategorie')"
      ]
     },
     "execution_count": 12,
     "metadata": {},
     "output_type": "execute_result"
    },
    {
     "data": {
      "image/png": "[encoded data removed]",
      "text/plain": [
       "<Figure size 432x288 with 1 Axes>"
      ]
     },
     "metadata": {
      "needs_background": "light"
     },
     "output_type": "display_data"
    }
   ],
   "source": [
    "ax = properties[\"std\"].plot.barh(color=\"grey\")\n",
    "ax.set_xlabel(\"Standardabweichung\")\n",
    "ax.set_ylabel(\"Kategorie\")"
   ]
  }
 ],
 "metadata": {
  "kernelspec": {
   "display_name": "Python 3",
   "language": "python",
   "name": "python3"
  },
  "language_info": {
   "codemirror_mode": {
    "name": "ipython",
    "version": 3
   },
   "file_extension": ".py",
   "mimetype": "text/x-python",
   "name": "python",
   "nbconvert_exporter": "python",
   "pygments_lexer": "ipython3",
   "version": "3.7.1"
  }
 },
 "nbformat": 4,
 "nbformat_minor": 2
}
