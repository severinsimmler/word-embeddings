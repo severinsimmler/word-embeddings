{
 "cells": [
  {
   "cell_type": "markdown",
   "metadata": {},
   "source": [
    "1. Überprüfen ob \"Description\" und \"Text\" der Artikel deckungsgleich sind und gegebenenfalls die betroffenen Artikel entfernen.\n",
    "2. Nicht-lateinische Schrift entfernen und prüfen ob Heuristiken zur gezielten Entfernung von nicht-deutscher Sprache gefunden werden können (z.B. Originaltitel von Filmen in Klammern hinter dem Artikelnamen)\n",
    "3. Mindestlänge von Artikeln auf 100 Wörter und Maximallänge auf 2000 Wörter festlegen. Artikel die weniger als 100 Wörter enthalten, werden entfernt und durch längere ersetzt. Artikel mit mehr als 2000 Wörtern werden an der Obergrenze abgeschnitten.\n",
    "4. Überlappungen zwischen den verschiedenen Datensätzen vor dem Merge prüfen."
   ]
  },
  {
   "cell_type": "code",
   "execution_count": 1,
   "metadata": {},
   "outputs": [],
   "source": [
    "import pandas as pd\n",
    "import regex\n",
    "\n",
    "%matplotlib inline"
   ]
  },
  {
   "cell_type": "code",
   "execution_count": 2,
   "metadata": {},
   "outputs": [
    {
     "data": {
      "text/html": [
       "<div>\n",
       "<style scoped>\n",
       "    .dataframe tbody tr th:only-of-type {\n",
       "        vertical-align: middle;\n",
       "    }\n",
       "\n",
       "    .dataframe tbody tr th {\n",
       "        vertical-align: top;\n",
       "    }\n",
       "\n",
       "    .dataframe thead th {\n",
       "        text-align: right;\n",
       "    }\n",
       "</style>\n",
       "<table border=\"1\" class=\"dataframe\">\n",
       "  <thead>\n",
       "    <tr style=\"text-align: right;\">\n",
       "      <th></th>\n",
       "      <th>category</th>\n",
       "      <th>description</th>\n",
       "      <th>text</th>\n",
       "      <th>length</th>\n",
       "    </tr>\n",
       "  </thead>\n",
       "  <tbody>\n",
       "    <tr>\n",
       "      <th>0</th>\n",
       "      <td>Herrscher</td>\n",
       "      <td>Adaloald auch Adalwald Adulubaldus 602 in Monz...</td>\n",
       "      <td>Adaloald auch Adalwald Adulubaldus 602 in Monz...</td>\n",
       "      <td>236.0</td>\n",
       "    </tr>\n",
       "    <tr>\n",
       "      <th>1</th>\n",
       "      <td>Herrscher</td>\n",
       "      <td>Ælfwine auch Aelfwine Elfwine Aelfuini Aelfwin...</td>\n",
       "      <td>Ælfwine auch Aelfwine Elfwine Aelfuini Aelfwin...</td>\n",
       "      <td>279.0</td>\n",
       "    </tr>\n",
       "    <tr>\n",
       "      <th>2</th>\n",
       "      <td>Herrscher</td>\n",
       "      <td>Æscwine auch Aescwine Escuuine 676 war von 674...</td>\n",
       "      <td>Æscwine auch Aescwine Escuuine 676 war von 674...</td>\n",
       "      <td>135.0</td>\n",
       "    </tr>\n",
       "    <tr>\n",
       "      <th>3</th>\n",
       "      <td>Herrscher</td>\n",
       "      <td>Æthelberht auch Æþelbryht Æþelbyrht Aedilberct...</td>\n",
       "      <td>Æthelberht auch Æþelbryht Æþelbyrht Aedilberct...</td>\n",
       "      <td>841.0</td>\n",
       "    </tr>\n",
       "    <tr>\n",
       "      <th>4</th>\n",
       "      <td>Herrscher</td>\n",
       "      <td>Æthelburg auch Æthelburh Ethelburga Æthelburga...</td>\n",
       "      <td>Æthelburg auch Æthelburh Ethelburga Æthelburga...</td>\n",
       "      <td>303.0</td>\n",
       "    </tr>\n",
       "  </tbody>\n",
       "</table>\n",
       "</div>"
      ],
      "text/plain": [
       "    category                                        description  \\\n",
       "0  Herrscher  Adaloald auch Adalwald Adulubaldus 602 in Monz...   \n",
       "1  Herrscher  Ælfwine auch Aelfwine Elfwine Aelfuini Aelfwin...   \n",
       "2  Herrscher  Æscwine auch Aescwine Escuuine 676 war von 674...   \n",
       "3  Herrscher  Æthelberht auch Æþelbryht Æþelbyrht Aedilberct...   \n",
       "4  Herrscher  Æthelburg auch Æthelburh Ethelburga Æthelburga...   \n",
       "\n",
       "                                                text  length  \n",
       "0  Adaloald auch Adalwald Adulubaldus 602 in Monz...   236.0  \n",
       "1  Ælfwine auch Aelfwine Elfwine Aelfuini Aelfwin...   279.0  \n",
       "2  Æscwine auch Aescwine Escuuine 676 war von 674...   135.0  \n",
       "3  Æthelberht auch Æþelbryht Æþelbyrht Aedilberct...   841.0  \n",
       "4  Æthelburg auch Æthelburh Ethelburga Æthelburga...   303.0  "
      ]
     },
     "execution_count": 2,
     "metadata": {},
     "output_type": "execute_result"
    }
   ],
   "source": [
    "categories = pd.read_csv(\"../data/classification-corpus/final-corpus.csv\")\n",
    "categories.head(5)"
   ]
  },
  {
   "cell_type": "markdown",
   "metadata": {},
   "source": [
    "### 1. description == text"
   ]
  },
  {
   "cell_type": "code",
   "execution_count": 23,
   "metadata": {},
   "outputs": [],
   "source": [
    "categories = categories[categories[\"description\"] != categories[\"text\"]].reset_index(drop=True)"
   ]
  },
  {
   "cell_type": "markdown",
   "metadata": {},
   "source": [
    "### 2. Nicht-lateinische Schrift"
   ]
  },
  {
   "cell_type": "code",
   "execution_count": 24,
   "metadata": {},
   "outputs": [],
   "source": [
    "token_pattern = regex.compile(r\"\\p{Latin}+\\p{Connector_Punctuation}?\\p{Latin}+|\\p{Number}+\")"
   ]
  },
  {
   "cell_type": "code",
   "execution_count": 25,
   "metadata": {},
   "outputs": [
    {
     "data": {
      "text/plain": [
       "['Deutsch',\n",
       " 'lateinisches',\n",
       " 'Alphabet',\n",
       " 'Amharisch',\n",
       " 'Bengalisch',\n",
       " 'Arabisch',\n",
       " 'Chinesisch',\n",
       " 'Japanisch']"
      ]
     },
     "execution_count": 25,
     "metadata": {},
     "output_type": "execute_result"
    }
   ],
   "source": [
    "example = \"\"\"Deutsch: lateinisches Alphabet, \n",
    "             Amharisch: የላቲን አልፋቤት,\n",
    "             Bengalisch: লাতিন বর্ণমালা,\n",
    "             Arabisch: اَللُّغَةُ اَلْعَرَبِيَّة,\n",
    "             Chinesisch: 漢字,\n",
    "             Japanisch: 日本語\"\"\"\n",
    "token_pattern.findall(example)"
   ]
  },
  {
   "cell_type": "code",
   "execution_count": 26,
   "metadata": {},
   "outputs": [],
   "source": [
    "def drop_nonlatin(articles):\n",
    "    return articles.apply(lambda article: \" \".join(token_pattern.findall(str(article))))"
   ]
  },
  {
   "cell_type": "code",
   "execution_count": 27,
   "metadata": {},
   "outputs": [],
   "source": [
    "categories[\"description\"] = drop_nonlatin(categories[\"description\"])\n",
    "categories[\"text\"] = drop_nonlatin(categories[\"text\"])"
   ]
  },
  {
   "cell_type": "markdown",
   "metadata": {},
   "source": [
    "### 3. Mindest- bzw. Maximallänge"
   ]
  },
  {
   "cell_type": "code",
   "execution_count": 28,
   "metadata": {},
   "outputs": [],
   "source": [
    "minimum = 100\n",
    "maximum = 2000"
   ]
  },
  {
   "cell_type": "code",
   "execution_count": 29,
   "metadata": {},
   "outputs": [],
   "source": [
    "length = list()\n",
    "\n",
    "for article in categories[\"text\"]:\n",
    "    tokens = token_pattern.findall(article)\n",
    "    length.append(len(tokens))\n",
    "\n",
    "categories[\"length\"] = length"
   ]
  },
  {
   "cell_type": "code",
   "execution_count": 30,
   "metadata": {},
   "outputs": [
    {
     "data": {
      "text/html": [
       "<div>\n",
       "<style scoped>\n",
       "    .dataframe tbody tr th:only-of-type {\n",
       "        vertical-align: middle;\n",
       "    }\n",
       "\n",
       "    .dataframe tbody tr th {\n",
       "        vertical-align: top;\n",
       "    }\n",
       "\n",
       "    .dataframe thead th {\n",
       "        text-align: right;\n",
       "    }\n",
       "</style>\n",
       "<table border=\"1\" class=\"dataframe\">\n",
       "  <thead>\n",
       "    <tr style=\"text-align: right;\">\n",
       "      <th></th>\n",
       "      <th>category</th>\n",
       "      <th>description</th>\n",
       "      <th>text</th>\n",
       "      <th>length</th>\n",
       "    </tr>\n",
       "  </thead>\n",
       "  <tbody>\n",
       "    <tr>\n",
       "      <th>0</th>\n",
       "      <td>Herrscher</td>\n",
       "      <td>Adaloald auch Adalwald Adulubaldus 602 in Monz...</td>\n",
       "      <td>Adaloald auch Adalwald Adulubaldus 602 in Monz...</td>\n",
       "      <td>236</td>\n",
       "    </tr>\n",
       "    <tr>\n",
       "      <th>1</th>\n",
       "      <td>Herrscher</td>\n",
       "      <td>Ælfwine auch Aelfwine Elfwine Aelfuini Aelfwin...</td>\n",
       "      <td>Ælfwine auch Aelfwine Elfwine Aelfuini Aelfwin...</td>\n",
       "      <td>279</td>\n",
       "    </tr>\n",
       "    <tr>\n",
       "      <th>2</th>\n",
       "      <td>Herrscher</td>\n",
       "      <td>Æscwine auch Aescwine Escuuine 676 war von 674...</td>\n",
       "      <td>Æscwine auch Aescwine Escuuine 676 war von 674...</td>\n",
       "      <td>135</td>\n",
       "    </tr>\n",
       "    <tr>\n",
       "      <th>3</th>\n",
       "      <td>Herrscher</td>\n",
       "      <td>Æthelberht auch Æþelbryht Æþelbyrht Aedilberct...</td>\n",
       "      <td>Æthelberht auch Æþelbryht Æþelbyrht Aedilberct...</td>\n",
       "      <td>841</td>\n",
       "    </tr>\n",
       "    <tr>\n",
       "      <th>4</th>\n",
       "      <td>Herrscher</td>\n",
       "      <td>Æthelburg auch Æthelburh Ethelburga Æthelburga...</td>\n",
       "      <td>Æthelburg auch Æthelburh Ethelburga Æthelburga...</td>\n",
       "      <td>303</td>\n",
       "    </tr>\n",
       "  </tbody>\n",
       "</table>\n",
       "</div>"
      ],
      "text/plain": [
       "    category                                        description  \\\n",
       "0  Herrscher  Adaloald auch Adalwald Adulubaldus 602 in Monz...   \n",
       "1  Herrscher  Ælfwine auch Aelfwine Elfwine Aelfuini Aelfwin...   \n",
       "2  Herrscher  Æscwine auch Aescwine Escuuine 676 war von 674...   \n",
       "3  Herrscher  Æthelberht auch Æþelbryht Æþelbyrht Aedilberct...   \n",
       "4  Herrscher  Æthelburg auch Æthelburh Ethelburga Æthelburga...   \n",
       "\n",
       "                                                text  length  \n",
       "0  Adaloald auch Adalwald Adulubaldus 602 in Monz...     236  \n",
       "1  Ælfwine auch Aelfwine Elfwine Aelfuini Aelfwin...     279  \n",
       "2  Æscwine auch Aescwine Escuuine 676 war von 674...     135  \n",
       "3  Æthelberht auch Æþelbryht Æþelbyrht Aedilberct...     841  \n",
       "4  Æthelburg auch Æthelburh Ethelburga Æthelburga...     303  "
      ]
     },
     "execution_count": 30,
     "metadata": {},
     "output_type": "execute_result"
    }
   ],
   "source": [
    "categories.head(5)"
   ]
  },
  {
   "cell_type": "code",
   "execution_count": 31,
   "metadata": {},
   "outputs": [],
   "source": [
    "categories = categories[categories[\"length\"] >= minimum].reset_index(drop=True)"
   ]
  },
  {
   "cell_type": "code",
   "execution_count": 32,
   "metadata": {},
   "outputs": [],
   "source": [
    "cut = categories[categories[\"length\"] > maximum]"
   ]
  },
  {
   "cell_type": "code",
   "execution_count": 33,
   "metadata": {},
   "outputs": [],
   "source": [
    "for row, article in cut.iterrows():\n",
    "    tokens = token_pattern.findall(article[\"text\"])\n",
    "    categories.iloc[row, 2] = \" \".join(tokens[:maximum])"
   ]
  },
  {
   "cell_type": "code",
   "execution_count": 34,
   "metadata": {},
   "outputs": [],
   "source": [
    "length = list()\n",
    "\n",
    "for article in categories[\"text\"]:\n",
    "    tokens = token_pattern.findall(article)\n",
    "    length.append(len(tokens))\n",
    "\n",
    "categories[\"length\"] = length"
   ]
  },
  {
   "cell_type": "code",
   "execution_count": 35,
   "metadata": {},
   "outputs": [],
   "source": [
    "categories = categories.drop_duplicates(\"description\")"
   ]
  },
  {
   "cell_type": "code",
   "execution_count": 52,
   "metadata": {},
   "outputs": [
    {
     "data": {
      "text/plain": [
       "Gemälde_(20._Jahrhundert)          200\n",
       "Film                               200\n",
       "Verein (Bonn)                      200\n",
       "Chemikaliengruppe                  200\n",
       "Literatur                          200\n",
       "Literaturwissenschaft              200\n",
       "Frauenfußball                      200\n",
       "Einzelsprache                      200\n",
       "Millionenstadt                     200\n",
       "Bekleidungsmarke                   200\n",
       "Filmschauspieler                   200\n",
       "Musik                              200\n",
       "Pkw-Modell                         200\n",
       "Rockband                           200\n",
       "Informationssendung (Fernsehen)    199\n",
       "Western                            199\n",
       "Computerspiele                     199\n",
       "Fernsehserien                      198\n",
       "Burgen                             193\n",
       "Kriege                             192\n",
       "Romantik (Literatur)               190\n",
       "Herrscher                          187\n",
       "Xbox-Spiel                         186\n",
       "Krankheit                          184\n",
       "Fantasy-Fernsehserie               183\n",
       "Kreditgeschäft                     182\n",
       "Soziologie                         180\n",
       "Planung und Organisation           178\n",
       "Logik                              175\n",
       "See in Bayern                      162\n",
       "Internet                           160\n",
       "Name: category, dtype: int64"
      ]
     },
     "execution_count": 52,
     "metadata": {},
     "output_type": "execute_result"
    }
   ],
   "source": [
    "categories[\"category\"].value_counts()"
   ]
  },
  {
   "cell_type": "code",
   "execution_count": null,
   "metadata": {},
   "outputs": [],
   "source": []
  }
 ],
 "metadata": {
  "kernelspec": {
   "display_name": "Python 3",
   "language": "python",
   "name": "python3"
  },
  "language_info": {
   "codemirror_mode": {
    "name": "ipython",
    "version": 3
   },
   "file_extension": ".py",
   "mimetype": "text/x-python",
   "name": "python",
   "nbconvert_exporter": "python",
   "pygments_lexer": "ipython3",
   "version": "3.7.1"
  }
 },
 "nbformat": 4,
 "nbformat_minor": 2
}
