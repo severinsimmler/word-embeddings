{
 "cells": [
  {
   "cell_type": "code",
   "execution_count": 42,
   "metadata": {
    "collapsed": false
   },
   "outputs": [],
   "source": [
    "import pandas as pd\n",
    "import fastText as ft\n",
    "import numpy as np\n",
    "from sklearn.preprocessing import LabelEncoder\n",
    "from keras.preprocessing.sequence import pad_sequences\n",
    "from sklearn.model_selection import train_test_split\n",
    "from keras.models import Sequential\n",
    "from keras.layers import Dense, Activation, Dropout, Flatten\n",
    "from keras.layers import Embedding, Conv1D, MaxPooling1D, GlobalMaxPooling1D\n",
    "from keras.utils.np_utils import to_categorical\n",
    "from sklearn.metrics import f1_score\n",
    "from keras import regularizers\n",
    "from keras import optimizers\n",
    "from collections import Counter\n",
    "from keras.activations import softmax\n",
    "from keras.callbacks import EarlyStopping"
   ]
  },
  {
   "cell_type": "code",
   "execution_count": 2,
   "metadata": {
    "collapsed": false
   },
   "outputs": [],
   "source": [
    "model = ft.load_model(\"\")"
   ]
  },
  {
   "cell_type": "code",
   "execution_count": 3,
   "metadata": {
    "collapsed": true
   },
   "outputs": [],
   "source": [
    "data = pd.read_csv(\"final-corpus.csv\",sep=\",\")"
   ]
  },
  {
   "cell_type": "code",
   "execution_count": 4,
   "metadata": {
    "collapsed": false
   },
   "outputs": [],
   "source": [
    "data[\"first_200\"] = data[\"text\"].apply(lambda x: x.split(\" \")[:200])"
   ]
  },
  {
   "cell_type": "code",
   "execution_count": 5,
   "metadata": {
    "collapsed": false
   },
   "outputs": [],
   "source": [
    "X = list(data[\"first_200\"])\n"
   ]
  },
  {
   "cell_type": "code",
   "execution_count": 6,
   "metadata": {
    "collapsed": true
   },
   "outputs": [],
   "source": [
    "enc = LabelEncoder()\n",
    "enc.fit(data[\"category\"])\n",
    "Y = enc.transform(data[\"category\"])"
   ]
  },
  {
   "cell_type": "code",
   "execution_count": 7,
   "metadata": {
    "collapsed": false
   },
   "outputs": [],
   "source": [
    "X = [[model.get_word_vector(w) for w in doc] for doc in X]"
   ]
  },
  {
   "cell_type": "code",
   "execution_count": 8,
   "metadata": {
    "collapsed": false
   },
   "outputs": [],
   "source": [
    "X = pad_sequences(X, maxlen=200)"
   ]
  },
  {
   "cell_type": "code",
   "execution_count": 9,
   "metadata": {
    "collapsed": true
   },
   "outputs": [],
   "source": [
    "Y = to_categorical(Y)"
   ]
  },
  {
   "cell_type": "code",
   "execution_count": 33,
   "metadata": {
    "collapsed": true
   },
   "outputs": [],
   "source": [
    "X_train, X_test, y_train, y_test = train_test_split(X, Y, test_size=0.2, random_state=42, shuffle=True)"
   ]
  },
  {
   "cell_type": "code",
   "execution_count": 48,
   "metadata": {
    "collapsed": false
   },
   "outputs": [
    {
     "name": "stdout",
     "output_type": "stream",
     "text": [
      "_________________________________________________________________\n",
      "Layer (type)                 Output Shape              Param #   \n",
      "=================================================================\n",
      "conv1d_30 (Conv1D)           (None, 191, 50)           150050    \n",
      "_________________________________________________________________\n",
      "dropout_42 (Dropout)         (None, 191, 50)           0         \n",
      "_________________________________________________________________\n",
      "flatten_16 (Flatten)         (None, 9550)              0         \n",
      "_________________________________________________________________\n",
      "dense_38 (Dense)             (None, 300)               2865300   \n",
      "_________________________________________________________________\n",
      "dropout_43 (Dropout)         (None, 300)               0         \n",
      "_________________________________________________________________\n",
      "dense_39 (Dense)             (None, 30)                9030      \n",
      "=================================================================\n",
      "Total params: 3,024,380\n",
      "Trainable params: 3,024,380\n",
      "Non-trainable params: 0\n",
      "_________________________________________________________________\n",
      "Epoch 1/70\n",
      "4742/4742 [==============================] - 11s 2ms/step - loss: 3.4724 - acc: 0.0346\n",
      "Epoch 2/70\n",
      "4742/4742 [==============================] - 10s 2ms/step - loss: 3.4348 - acc: 0.0361\n",
      "Epoch 3/70\n",
      "4742/4742 [==============================] - 10s 2ms/step - loss: 3.3824 - acc: 0.0519\n",
      "Epoch 4/70\n",
      "4742/4742 [==============================] - 10s 2ms/step - loss: 3.3673 - acc: 0.0525\n",
      "Epoch 5/70\n",
      "4742/4742 [==============================] - 9s 2ms/step - loss: 3.3355 - acc: 0.0647\n",
      "Epoch 6/70\n",
      "4742/4742 [==============================] - 9s 2ms/step - loss: 3.3058 - acc: 0.0715\n",
      "Epoch 7/70\n",
      "4742/4742 [==============================] - 9s 2ms/step - loss: 3.2627 - acc: 0.0765\n",
      "Epoch 8/70\n",
      "4742/4742 [==============================] - 10s 2ms/step - loss: 3.2148 - acc: 0.0949\n",
      "Epoch 9/70\n",
      "4742/4742 [==============================] - 10s 2ms/step - loss: 3.1330 - acc: 0.1200\n",
      "Epoch 10/70\n",
      "4742/4742 [==============================] - 9s 2ms/step - loss: 3.0757 - acc: 0.1356\n",
      "Epoch 11/70\n",
      "4742/4742 [==============================] - 10s 2ms/step - loss: 3.0232 - acc: 0.1457\n",
      "Epoch 12/70\n",
      "4742/4742 [==============================] - 10s 2ms/step - loss: 2.9251 - acc: 0.1767\n",
      "Epoch 13/70\n",
      "4742/4742 [==============================] - 10s 2ms/step - loss: 2.8793 - acc: 0.1731\n",
      "Epoch 14/70\n",
      "4742/4742 [==============================] - 9s 2ms/step - loss: 2.8097 - acc: 0.1984\n",
      "Epoch 15/70\n",
      "4742/4742 [==============================] - 10s 2ms/step - loss: 2.7404 - acc: 0.2153\n",
      "Epoch 16/70\n",
      "4742/4742 [==============================] - 10s 2ms/step - loss: 2.7077 - acc: 0.2218\n",
      "Epoch 17/70\n",
      "4742/4742 [==============================] - 10s 2ms/step - loss: 2.6052 - acc: 0.2368\n",
      "Epoch 18/70\n",
      "4742/4742 [==============================] - 9s 2ms/step - loss: 2.5332 - acc: 0.2670\n",
      "Epoch 19/70\n",
      "4742/4742 [==============================] - 10s 2ms/step - loss: 2.4734 - acc: 0.2716\n",
      "Epoch 20/70\n",
      "4742/4742 [==============================] - 10s 2ms/step - loss: 2.4309 - acc: 0.2830\n",
      "Epoch 21/70\n",
      "4742/4742 [==============================] - 10s 2ms/step - loss: 2.3668 - acc: 0.2973\n",
      "Epoch 22/70\n",
      "4742/4742 [==============================] - 11s 2ms/step - loss: 2.2866 - acc: 0.3241\n",
      "Epoch 23/70\n",
      "4742/4742 [==============================] - 10s 2ms/step - loss: 2.2536 - acc: 0.3275\n",
      "Epoch 24/70\n",
      "4742/4742 [==============================] - 10s 2ms/step - loss: 2.2000 - acc: 0.3412\n",
      "Epoch 25/70\n",
      "4742/4742 [==============================] - 9s 2ms/step - loss: 2.1560 - acc: 0.3494\n",
      "Epoch 26/70\n",
      "4742/4742 [==============================] - 10s 2ms/step - loss: 2.1122 - acc: 0.3568\n",
      "Epoch 27/70\n",
      "4742/4742 [==============================] - 10s 2ms/step - loss: 2.0997 - acc: 0.3621\n",
      "Epoch 28/70\n",
      "4742/4742 [==============================] - 10s 2ms/step - loss: 2.0355 - acc: 0.3726\n",
      "Epoch 29/70\n",
      "4742/4742 [==============================] - 9s 2ms/step - loss: 2.0115 - acc: 0.3899\n",
      "Epoch 30/70\n",
      "4742/4742 [==============================] - 10s 2ms/step - loss: 1.9778 - acc: 0.3849\n",
      "Epoch 31/70\n",
      "4742/4742 [==============================] - 9s 2ms/step - loss: 1.9439 - acc: 0.4095\n",
      "Epoch 32/70\n",
      "4742/4742 [==============================] - 9s 2ms/step - loss: 1.9257 - acc: 0.4070\n",
      "Epoch 33/70\n",
      "4742/4742 [==============================] - 10s 2ms/step - loss: 1.8942 - acc: 0.4207\n",
      "Epoch 34/70\n",
      "4742/4742 [==============================] - 10s 2ms/step - loss: 1.8583 - acc: 0.4245\n",
      "Epoch 35/70\n",
      "4742/4742 [==============================] - 10s 2ms/step - loss: 1.8440 - acc: 0.4334\n",
      "Epoch 36/70\n",
      "4742/4742 [==============================] - 10s 2ms/step - loss: 1.8283 - acc: 0.4348\n",
      "Epoch 37/70\n",
      "4742/4742 [==============================] - 10s 2ms/step - loss: 1.7637 - acc: 0.4528\n",
      "Epoch 38/70\n",
      "4742/4742 [==============================] - 10s 2ms/step - loss: 1.7642 - acc: 0.4496\n",
      "Epoch 39/70\n",
      "4742/4742 [==============================] - 10s 2ms/step - loss: 1.7747 - acc: 0.4523\n",
      "Epoch 40/70\n",
      "4742/4742 [==============================] - 10s 2ms/step - loss: 1.7132 - acc: 0.4629\n",
      "Epoch 41/70\n",
      "4742/4742 [==============================] - 10s 2ms/step - loss: 1.6882 - acc: 0.4743\n",
      "Epoch 42/70\n",
      "4742/4742 [==============================] - 9s 2ms/step - loss: 1.6933 - acc: 0.4673\n",
      "Epoch 43/70\n",
      "4742/4742 [==============================] - 10s 2ms/step - loss: 1.6403 - acc: 0.4844\n",
      "Epoch 44/70\n",
      "4742/4742 [==============================] - 10s 2ms/step - loss: 1.6664 - acc: 0.4774\n",
      "Epoch 45/70\n",
      "4742/4742 [==============================] - 10s 2ms/step - loss: 1.6341 - acc: 0.4935\n",
      "Epoch 46/70\n",
      "4742/4742 [==============================] - 9s 2ms/step - loss: 1.5910 - acc: 0.4937\n",
      "Epoch 47/70\n",
      "4742/4742 [==============================] - 9s 2ms/step - loss: 1.5960 - acc: 0.5011\n",
      "Epoch 48/70\n",
      "4742/4742 [==============================] - 10s 2ms/step - loss: 1.5729 - acc: 0.5133\n",
      "Epoch 49/70\n",
      "4742/4742 [==============================] - 10s 2ms/step - loss: 1.5880 - acc: 0.5076\n",
      "Epoch 50/70\n",
      "4742/4742 [==============================] - 10s 2ms/step - loss: 1.5603 - acc: 0.5116\n",
      "Epoch 51/70\n",
      "4742/4742 [==============================] - 10s 2ms/step - loss: 1.5429 - acc: 0.5089\n",
      "Epoch 52/70\n",
      "4742/4742 [==============================] - 10s 2ms/step - loss: 1.5272 - acc: 0.5171\n",
      "Epoch 53/70\n",
      "4742/4742 [==============================] - 9s 2ms/step - loss: 1.5199 - acc: 0.5173\n",
      "Epoch 54/70\n",
      "4742/4742 [==============================] - 10s 2ms/step - loss: 1.4929 - acc: 0.5335\n",
      "Epoch 55/70\n",
      "4742/4742 [==============================] - 10s 2ms/step - loss: 1.4675 - acc: 0.5297\n",
      "Epoch 56/70\n",
      "4742/4742 [==============================] - 11s 2ms/step - loss: 1.4708 - acc: 0.5369\n",
      "Epoch 57/70\n",
      "4742/4742 [==============================] - 10s 2ms/step - loss: 1.4591 - acc: 0.5428\n",
      "Epoch 58/70\n",
      "4742/4742 [==============================] - 11s 2ms/step - loss: 1.5158 - acc: 0.5236\n",
      "Epoch 59/70\n",
      "4742/4742 [==============================] - 12s 2ms/step - loss: 1.4291 - acc: 0.5487\n",
      "Epoch 60/70\n",
      "4742/4742 [==============================] - 11s 2ms/step - loss: 1.4480 - acc: 0.5428\n",
      "Epoch 61/70\n",
      "4742/4742 [==============================] - 12s 2ms/step - loss: 1.4623 - acc: 0.5278\n",
      "Epoch 62/70\n",
      "4742/4742 [==============================] - 11s 2ms/step - loss: 1.4277 - acc: 0.5386\n",
      "Epoch 63/70\n",
      "4742/4742 [==============================] - 11s 2ms/step - loss: 1.3878 - acc: 0.5498\n",
      "Epoch 64/70\n",
      "4742/4742 [==============================] - 11s 2ms/step - loss: 1.3789 - acc: 0.5664\n",
      "Epoch 65/70\n",
      "4742/4742 [==============================] - 11s 2ms/step - loss: 1.3830 - acc: 0.5645\n",
      "Epoch 66/70\n",
      "4742/4742 [==============================] - 11s 2ms/step - loss: 1.3936 - acc: 0.5515\n",
      "Epoch 67/70\n",
      "4742/4742 [==============================] - 10s 2ms/step - loss: 1.3728 - acc: 0.5597\n",
      "Epoch 68/70\n",
      "4742/4742 [==============================] - 10s 2ms/step - loss: 1.3962 - acc: 0.5569\n",
      "Epoch 69/70\n",
      "4742/4742 [==============================] - 11s 2ms/step - loss: 1.3497 - acc: 0.5654\n",
      "Epoch 70/70\n",
      "4742/4742 [==============================] - 12s 2ms/step - loss: 1.3557 - acc: 0.5702\n",
      "0.5297347786350826\n"
     ]
    }
   ],
   "source": [
    "early_stop = EarlyStopping(monitor='val_loss', min_delta=0, patience=3, verbose=1, mode='auto')\n",
    "\n",
    "\n",
    "model = Sequential()\n",
    "model.add(Conv1D(kernel_size=10,filters = 50,input_shape=(200,300)))\n",
    "model.add(Dropout(0.8))\n",
    "model.add(Flatten())\n",
    "model.add(Dense(300, activation=\"relu\"))\n",
    "model.add(Dropout(0.9))\n",
    "model.add(Dense(30, activation=\"softmax\"))\n",
    "model.compile(optimizer='adam',\n",
    "              loss='categorical_crossentropy',\n",
    "              metrics=['accuracy'])\n",
    "model.summary()\n",
    "\n",
    "model.fit(X_train, y_train,\n",
    "          epochs=70,\n",
    "          batch_size=400, shuffle=True, callbacks=[early_stop])\n",
    "y_pred = model.predict(X_test, batch_size=100)\n",
    "\n",
    "y_pred = [np.argmax(x) for x in y_pred]\n",
    "y_true = [np.argmax(x) for x in y_test]\n",
    "\n",
    "print(f1_score(y_true, y_pred, average=\"macro\"))"
   ]
  },
  {
   "cell_type": "code",
   "execution_count": null,
   "metadata": {
    "collapsed": false,
    "scrolled": true
   },
   "outputs": [],
   "source": []
  }
 ],
 "metadata": {
  "kernelspec": {
   "display_name": "Python 3",
   "language": "python",
   "name": "python3"
  },
  "language_info": {
   "codemirror_mode": {
    "name": "ipython",
    "version": 3
   },
   "file_extension": ".py",
   "mimetype": "text/x-python",
   "name": "python",
   "nbconvert_exporter": "python",
   "pygments_lexer": "ipython3",
   "version": "3.5.3"
  }
 },
 "nbformat": 4,
 "nbformat_minor": 2
}
